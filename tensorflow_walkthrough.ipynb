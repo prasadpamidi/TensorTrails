{
 "cells": [
  {
   "cell_type": "code",
   "execution_count": 15,
   "metadata": {
    "collapsed": false
   },
   "outputs": [
    {
     "name": "stdout",
     "output_type": "stream",
     "text": [
      "b'I am a Constant'\n",
      "Hello World\n",
      "1\n",
      "3.0\n",
      "[[[[-0.02945829  0.13463578  0.06254795  0.04890206 -0.02589542  0.06478899]]\n",
      "\n",
      "  [[-0.05183497 -0.02789631  0.08135591  0.00724334 -0.08392275  0.02622166]]\n",
      "\n",
      "  [[-0.10023302 -0.10289311  0.18268339  0.00656681 -0.03350198 -0.10188857]]]\n",
      "\n",
      "\n",
      " [[[-0.04782532  0.09260066 -0.04645075 -0.00339175 -0.02724966  0.05931205]]\n",
      "\n",
      "  [[ 0.05827846 -0.13669437  0.1742904   0.0873969   0.1628987  -0.07065492]]\n",
      "\n",
      "  [[-0.04197415 -0.12577841  0.0335924  -0.12857528  0.17111507  0.07180569]]]\n",
      "\n",
      "\n",
      " [[[-0.00154802 -0.01551639  0.01230738 -0.09420497 -0.13994551  0.01997991]]\n",
      "\n",
      "  [[ 0.09342559 -0.12737565  0.01502761 -0.00285982 -0.0794641   0.02822481]]\n",
      "\n",
      "  [[-0.00481926 -0.02979227 -0.05099807 -0.09731366 -0.00093376 -0.02866908]]]]\n"
     ]
    }
   ],
   "source": [
    "import tensorflow as tf\n",
    "\n",
    "# Create TensorFlow object called tensor\n",
    "#Constants\n",
    "c = tf.constant(\"I am a Constant\");\n",
    "\n",
    "#Ways to for imput values dynamically\n",
    "x = tf.placeholder(tf.string)\n",
    "y = tf.placeholder(tf.int32)\n",
    "z = tf.placeholder(tf.float32)\n",
    "\n",
    "n_features = 120\n",
    "n_labels = 5\n",
    "\n",
    "#you can use tf.Variable if you want to be able to modify tensors during execution.. variables should have a default intial value\n",
    "weights = tf.Variable(tf.truncated_normal((n_features, n_labels)))\n",
    "\n",
    "n_labels = 5\n",
    "bias = tf.Variable(tf.zeros(n_labels))\n",
    "\n",
    "logit_data = [2.0, 1.0, 0.1]\n",
    "logits = tf.placeholder(tf.float32)\n",
    "\n",
    "#softmax is a popular activation function that can take any logical scores(logits) from linear regression calculations and convert them into probabilities\n",
    "softmax = tf.nn.softmax(logits)\n",
    "\n",
    "#It is a lazy, yet efficient approach to take a logistic classifier function and make it non-linear. The ReLU function is 0 for negative inputs and xfor all inputs x>0. It is defined as f(x) = max(0, x). The function returns 0 if x is negative, otherwise it returns x. \n",
    "relu = tf.nn.relu(logits)\n",
    "\n",
    "#tf.truncated_normal is a great way to generate test data with required shapes, mean and standard deviations\n",
    "#In this example, i am creating a weights of depth 6 with width 3, height 3 and channels 1\n",
    "conv1_W = tf.Variable(tf.truncated_normal(shape=(3, 3, 1, 6), mean = 0, stddev = 0.1))\n",
    "\n",
    "#this step need to be run in the session before you can use any tensor variables\n",
    "init = tf.global_variables_initializer()\n",
    "\n",
    "#In tensorflow, everything is executed with in a session\n",
    "with tf.Session() as sess:\n",
    "    # Run the tf.constant operation in the session\n",
    "    constant_output = sess.run(c)\n",
    "    print(constant_output)\n",
    "    \n",
    "    #feed_dict is how you input values into placeholder tensors\n",
    "    x_output = sess.run(x, feed_dict={x: 'Hello World', y: 1, z: 3.0})\n",
    "    print(x_output)\n",
    "    y_output = sess.run(y, feed_dict={x: 'Hello World', y: 1, z: 3.0})\n",
    "    print(y_output)\n",
    "    z_output = sess.run(z, feed_dict={x: 'Hello World', y: 1, z: 3.0})\n",
    "    print(z_output)\n",
    "\n",
    "    #tf.add, tf.mul are common arithmetic operations you can perform on tensors\n",
    "    add_output = sess.run(tf.add(y_output, z_output))\n",
    "    \n",
    "    #this is needed to be able to use variable tensors in tensor flow\n",
    "    sess.run(init)\n",
    "\n",
    "    output = sess.run(conv1_W)\n",
    "\n",
    "    print(output)"
   ]
  },
  {
   "cell_type": "code",
   "execution_count": null,
   "metadata": {
    "collapsed": true
   },
   "outputs": [],
   "source": []
  }
 ],
 "metadata": {
  "kernelspec": {
   "display_name": "Python 3",
   "language": "python",
   "name": "python3"
  },
  "language_info": {
   "codemirror_mode": {
    "name": "ipython",
    "version": 3
   },
   "file_extension": ".py",
   "mimetype": "text/x-python",
   "name": "python",
   "nbconvert_exporter": "python",
   "pygments_lexer": "ipython3",
   "version": "3.6.0"
  }
 },
 "nbformat": 4,
 "nbformat_minor": 2
}
